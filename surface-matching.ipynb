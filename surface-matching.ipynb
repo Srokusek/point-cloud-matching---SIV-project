{
 "cells": [
  {
   "cell_type": "code",
   "execution_count": 17,
   "metadata": {},
   "outputs": [],
   "source": [
    "import cv2 as cv\n",
    "import open3d as o3d\n",
    "import numpy as np"
   ]
  },
  {
   "cell_type": "code",
   "execution_count": 18,
   "metadata": {},
   "outputs": [],
   "source": [
    "def o3d_to_cv(pointcloud):\n",
    "    if pointcloud.has_normals() and pointcloud.has_points():\n",
    "        return(np.concatenate((np.asarray(pointcloud.points), np.asarray(pointcloud.normals)), axis=1, dtype=np.float32))\n",
    "    else:\n",
    "        print(\"incorrect input format\")"
   ]
  },
  {
   "cell_type": "markdown",
   "metadata": {},
   "source": [
    "## Preprocess point clouds"
   ]
  },
  {
   "cell_type": "code",
   "execution_count": 19,
   "metadata": {},
   "outputs": [],
   "source": [
    "#pcd = o3d.io.read_point_cloud(\"data/monkey100.ply\")\n",
    "mesh = o3d.io.read_triangle_mesh(\"data/monkey.ply\")\n",
    "pcd = mesh.sample_points_uniformly(number_of_points=2000)\n",
    "\n",
    "scene_pcd = o3d.io.read_point_cloud(\"data/_frames_1_to_8.ply\")\n",
    "\n",
    "pt_plane_distance = 0.02\n",
    "\n",
    "plane_model, inliers = scene_pcd.segment_plane(distance_threshold=pt_plane_distance, ransac_n=3, num_iterations=1000)\n",
    "\n",
    "inlier_cloud = scene_pcd.select_by_index(inliers)\n",
    "outlier_cloud = scene_pcd.select_by_index(inliers, invert=True)\n",
    "inlier_cloud.paint_uniform_color([0.6,0.6,0.6])\n",
    "\n",
    "#o3d.visualization.draw_geometries([inlier_cloud, outlier_cloud])\n",
    "\n",
    "scene_pcd = outlier_cloud\n",
    "\n",
    "pcd = pcd.translate([-10,-10,1])\n",
    "\n",
    "down_scene_pcd = scene_pcd.voxel_down_sample(voxel_size=0.05)\n",
    "\n",
    "#o3d.visualization.draw_geometries([down_scene_pcd100])\n",
    "\n",
    "nn_distance = np.mean(down_scene_pcd.compute_nearest_neighbor_distance())\n",
    "normal_radius = nn_distance*4\n",
    "\n",
    "down_scene_pcd.estimate_normals(o3d.geometry.KDTreeSearchParamHybrid(radius=normal_radius,max_nn=16))\n",
    "\n",
    "down_scene_pcd.orient_normals_consistent_tangent_plane(k=16)\n",
    "\n",
    "pcd_formatted = o3d_to_cv(pcd)\n",
    "scene_formatted = o3d_to_cv(down_scene_pcd)"
   ]
  },
  {
   "cell_type": "code",
   "execution_count": null,
   "metadata": {},
   "outputs": [],
   "source": [
    "o3d.visualization.draw_geometries([down_scene_pcd, pcd], point_show_normal=True)"
   ]
  },
  {
   "cell_type": "code",
   "execution_count": 21,
   "metadata": {},
   "outputs": [
    {
     "name": "stdout",
     "output_type": "stream",
     "text": [
      "Loading model...\n",
      "Training...\n"
     ]
    }
   ],
   "source": [
    "N = 2\n",
    "\n",
    "detector = cv.ppf_match_3d_PPF3DDetector(0.025, 0.05)\n",
    "print('Loading model...')\n",
    "\n",
    "print('Training...')\n",
    "detector.trainModel(pcd_formatted)"
   ]
  },
  {
   "cell_type": "code",
   "execution_count": 22,
   "metadata": {},
   "outputs": [
    {
     "name": "stdout",
     "output_type": "stream",
     "text": [
      "Matching...\n",
      "Performing ICP...\n",
      "Poses: \n",
      "\n",
      "-- Pose to Model Index 1014: NumVotes = 361, Residual = 0.008462\n",
      "[[ 9.99913975e-01 -1.17549685e-02 -5.81921384e-03  9.91719164e+00]\n",
      " [ 1.17715627e-02  9.99926720e-01  2.82564292e-03  1.01301934e+01]\n",
      " [ 5.78557206e-03 -2.89390109e-03  9.99979076e-01 -9.58574104e-01]\n",
      " [ 0.00000000e+00  0.00000000e+00  0.00000000e+00  1.00000000e+00]]\n",
      "\n",
      "\n",
      "-- Pose to Model Index 1147: NumVotes = 297, Residual = 0.008241\n",
      "[[ 9.99935134e-01 -1.00037201e-02 -5.44542593e-03  9.93030483e+00]\n",
      " [ 1.00148618e-02  9.99947804e-01  2.02265856e-03  1.01122077e+01]\n",
      " [ 5.42490760e-03 -2.07706255e-03  9.99983128e-01 -9.56204026e-01]\n",
      " [ 0.00000000e+00  0.00000000e+00  0.00000000e+00  1.00000000e+00]]\n",
      "\n"
     ]
    }
   ],
   "source": [
    "print('Matching...')\n",
    "results = detector.match(scene_formatted, 0.5, 0.05)\n",
    "\n",
    "print('Performing ICP...')\n",
    "icp = cv.ppf_match_3d_ICP(100)\n",
    "_, results = icp.registerModelToScene(pcd_formatted, scene_formatted, results[:N])\n",
    "\n",
    "print(\"Poses: \")\n",
    "for i, result in enumerate(results):\n",
    "    #result.printPose()\n",
    "    print(\"\\n-- Pose to Model Index %d: NumVotes = %d, Residual = %f\\n%s\\n\" % (result.modelIndex, result.numVotes, result.residual, result.pose))\n",
    "    if i == 0:\n",
    "        pct = cv.ppf_match_3d.transformPCPose(pcd_formatted, result.pose)\n",
    "        cv.ppf_match_3d.writePLY(pct, \"%sPCTrans.ply\" % \"modelname\")"
   ]
  },
  {
   "cell_type": "code",
   "execution_count": 23,
   "metadata": {},
   "outputs": [],
   "source": [
    "translate_pcd = o3d.io.read_point_cloud(\"./modelnamePCTrans.ply\")\n",
    "scene_pcd.paint_uniform_color([0.6,0.6,0.6])\n",
    "o3d.visualization.draw_geometries([scene_pcd, translate_pcd])"
   ]
  },
  {
   "cell_type": "markdown",
   "metadata": {},
   "source": [
    "# Match segment to position"
   ]
  },
  {
   "cell_type": "code",
   "execution_count": null,
   "metadata": {},
   "outputs": [],
   "source": [
    "from sklearn.neighbors import KNeighborsClassifier"
   ]
  },
  {
   "cell_type": "code",
   "execution_count": 106,
   "metadata": {},
   "outputs": [
    {
     "name": "stdout",
     "output_type": "stream",
     "text": [
      "[Open3D DEBUG] Precompute neighbors.\n",
      "[Open3D DEBUG] Done Precompute neighbors.                     ] 2%\n",
      "[Open3D DEBUG] Compute Clusters\n",
      "[Open3D DEBUG] Done Compute Clusters: 2\n",
      "Precompute neighbors.[========================================] 100%======================>        ] 77%\n",
      "Clustering[========================================] 100%\n"
     ]
    }
   ],
   "source": [
    "with o3d.utility.VerbosityContextManager(o3d.utility.VerbosityLevel.Debug) as cm:\n",
    "    labels = np.array(scene_pcd.cluster_dbscan(eps=0.5, min_points=10, print_progress=True))\n",
    "\n",
    "clusters = []\n",
    "\n",
    "for i in range(labels.max()+1):\n",
    "    clusters.append(scene_pcd.select_by_index(np.where(labels == i)[0]))"
   ]
  },
  {
   "cell_type": "markdown",
   "metadata": {},
   "source": [
    "### Distance meassure approach"
   ]
  },
  {
   "cell_type": "markdown",
   "metadata": {},
   "source": [
    "### KNN approach"
   ]
  },
  {
   "cell_type": "code",
   "execution_count": 108,
   "metadata": {},
   "outputs": [],
   "source": [
    "KNN = KNeighborsClassifier()\n",
    "\n",
    "KNN.fit(X=np.asarray(scene_pcd.points), y=labels)\n",
    "\n",
    "select = int(np.median(KNN.predict(np.asarray(translate_pcd.points))))\n",
    "o3d.visualization.draw_geometries([clusters[select], translate_pcd])"
   ]
  },
  {
   "cell_type": "code",
   "execution_count": 112,
   "metadata": {},
   "outputs": [],
   "source": [
    "hull, _ = clusters[select].compute_convex_hull()\n",
    "hull_ls = o3d.geometry.LineSet.create_from_triangle_mesh(hull)\n",
    "\n",
    "o3d.visualization.draw_geometries([clusters[select], mesh])"
   ]
  },
  {
   "cell_type": "code",
   "execution_count": 113,
   "metadata": {},
   "outputs": [],
   "source": [
    "tetra_mesh, pt_map = o3d.geometry.TetraMesh.create_from_point_cloud(clusters[0])"
   ]
  },
  {
   "cell_type": "code",
   "execution_count": 116,
   "metadata": {},
   "outputs": [],
   "source": [
    "alpha = 0.1\n",
    "\n",
    "mesh = o3d.geometry.TriangleMesh.create_from_point_cloud_alpha_shape(clusters[0], alpha, tetra_mesh, pt_map)\n",
    "mesh.compute_vertex_normals()\n",
    "o3d.visualization.draw_geometries([mesh])"
   ]
  }
 ],
 "metadata": {
  "kernelspec": {
   "display_name": ".venv",
   "language": "python",
   "name": "python3"
  },
  "language_info": {
   "codemirror_mode": {
    "name": "ipython",
    "version": 3
   },
   "file_extension": ".py",
   "mimetype": "text/x-python",
   "name": "python",
   "nbconvert_exporter": "python",
   "pygments_lexer": "ipython3",
   "version": "3.11.7"
  }
 },
 "nbformat": 4,
 "nbformat_minor": 2
}
