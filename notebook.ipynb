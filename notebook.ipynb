{
 "cells": [
  {
   "cell_type": "code",
   "execution_count": 2,
   "metadata": {},
   "outputs": [
    {
     "name": "stdout",
     "output_type": "stream",
     "text": [
      "Jupyter environment detected. Enabling Open3D WebVisualizer.\n",
      "[Open3D INFO] WebRTC GUI backend enabled.\n",
      "[Open3D INFO] WebRTCWindowSystem: HTTP handshake server disabled.\n"
     ]
    }
   ],
   "source": [
    "import open3d as o3d\n",
    "import numpy as np\n",
    "import matplotlib.pyplot as plt"
   ]
  },
  {
   "cell_type": "markdown",
   "metadata": {},
   "source": [
    "# Import and preprocess"
   ]
  },
  {
   "cell_type": "code",
   "execution_count": 5,
   "metadata": {},
   "outputs": [
    {
     "name": "stdout",
     "output_type": "stream",
     "text": [
      "PointCloud with 180985 points.\n"
     ]
    }
   ],
   "source": [
    "pcd = o3d.io.read_point_cloud(\"data/_frames_1_to_8.ply\")\n",
    "print(pcd)\n",
    "o3d.visualization.draw_geometries([pcd])"
   ]
  },
  {
   "cell_type": "markdown",
   "metadata": {},
   "source": [
    "# Preprocess"
   ]
  },
  {
   "cell_type": "code",
   "execution_count": 3,
   "metadata": {},
   "outputs": [
    {
     "data": {
      "text/plain": [
       "PointCloud with 180985 points."
      ]
     },
     "execution_count": 3,
     "metadata": {},
     "output_type": "execute_result"
    }
   ],
   "source": [
    "pcd.translate(-pcd.get_center())\n"
   ]
  },
  {
   "cell_type": "code",
   "execution_count": 4,
   "metadata": {},
   "outputs": [],
   "source": [
    "front = [ 0.84407312852327709, -0.47343977579888252, 0.25178429735873387 ]\n",
    "lookat = [ 1.7430326603208821, -2.1239703901019853, 1.7369356463018559 ]\n",
    "up = [ -0.25536249399327232, 0.05798759846744491, 0.96510488294563845 ]\n",
    "zoom = 0.5"
   ]
  },
  {
   "cell_type": "code",
   "execution_count": 5,
   "metadata": {},
   "outputs": [],
   "source": [
    "filtered_pcd = pcd.remove_statistical_outlier(16, 10)\n",
    "outliers = pcd.select_by_index(filtered_pcd[1], invert=True)\n",
    "outliers.paint_uniform_color([1,0,0])\n",
    "filtered_pcd = filtered_pcd[0]\n",
    "filtered_pcd.paint_uniform_color([0.6,0.6,0.6])\n",
    "\n",
    "o3d.visualization.draw_geometries([filtered_pcd, outliers], front=front, lookat=lookat, up=up, zoom=zoom)"
   ]
  },
  {
   "cell_type": "code",
   "execution_count": 6,
   "metadata": {},
   "outputs": [],
   "source": [
    "nn_distance = np.mean(filtered_pcd.compute_nearest_neighbor_distance())\n",
    "\n",
    "normal_radius = nn_distance*4\n",
    "\n",
    "filtered_pcd.estimate_normals(o3d.geometry.KDTreeSearchParamHybrid(radius=normal_radius, max_nn=16))\n",
    "o3d.visualization.draw_geometries([filtered_pcd, outliers], front=front, lookat=lookat, up=up, zoom=zoom, point_show_normal=True)\n"
   ]
  },
  {
   "cell_type": "markdown",
   "metadata": {},
   "source": [
    "# Ransac"
   ]
  },
  {
   "cell_type": "code",
   "execution_count": 7,
   "metadata": {},
   "outputs": [],
   "source": [
    "pt_plane_distance = 0.02\n",
    "\n",
    "plane_model, inliers = pcd.segment_plane(distance_threshold=pt_plane_distance, ransac_n=3, num_iterations=1000)\n",
    "\n",
    "inlier_cloud = pcd.select_by_index(inliers)\n",
    "outlier_cloud = pcd.select_by_index(inliers, invert=True)\n",
    "inlier_cloud.paint_uniform_color([0.6,0.6,0.6])\n",
    "\n",
    "o3d.visualization.draw_geometries([inlier_cloud, outlier_cloud], front=front, lookat=lookat, up=up, zoom=zoom)\n"
   ]
  },
  {
   "cell_type": "markdown",
   "metadata": {},
   "source": [
    "# Downsample"
   ]
  },
  {
   "cell_type": "code",
   "execution_count": 8,
   "metadata": {},
   "outputs": [
    {
     "name": "stdout",
     "output_type": "stream",
     "text": [
      "PointCloud with 1920 points.\n"
     ]
    }
   ],
   "source": [
    "downpcd = outlier_cloud.voxel_down_sample(voxel_size=0.1)\n",
    "#o3d.visualization.draw_geometries([pcd])\n",
    "print(downpcd)"
   ]
  },
  {
   "cell_type": "markdown",
   "metadata": {},
   "source": [
    "# Cluster"
   ]
  },
  {
   "cell_type": "code",
   "execution_count": 9,
   "metadata": {},
   "outputs": [
    {
     "name": "stdout",
     "output_type": "stream",
     "text": [
      "[Open3D DEBUG] Precompute neighbors.\n",
      "[Open3D DEBUG] Done Precompute neighbors.\n",
      "[Open3D DEBUG] Compute Clusters\n",
      "[Open3D DEBUG] Done Compute Clusters: 2                       ] 2%\n",
      "Precompute neighbors.[========================================] 100%\n",
      "Clustering[========================================] 100%         ] 60%\n"
     ]
    }
   ],
   "source": [
    "with o3d.utility.VerbosityContextManager(o3d.utility.VerbosityLevel.Debug) as cm:\n",
    "    labels = np.array(downpcd.cluster_dbscan(eps=0.5, min_points=10, print_progress=True))"
   ]
  },
  {
   "cell_type": "code",
   "execution_count": 10,
   "metadata": {},
   "outputs": [
    {
     "name": "stdout",
     "output_type": "stream",
     "text": [
      "point cloud has 2 clusters\n"
     ]
    }
   ],
   "source": [
    "max_label = labels.max()\n",
    "print(f\"point cloud has {max_label + 1} clusters\")\n",
    "colors = plt.get_cmap(\"tab20\")(labels / (max_label if max_label > 0 else 1))\n",
    "colors[labels < 0] = 0\n",
    "downpcd.colors = o3d.utility.Vector3dVector(colors[:, :3])"
   ]
  },
  {
   "cell_type": "code",
   "execution_count": 11,
   "metadata": {},
   "outputs": [],
   "source": [
    "o3d.visualization.draw_geometries([downpcd, inlier_cloud], front=front, lookat=lookat, up=up, zoom=zoom)"
   ]
  },
  {
   "cell_type": "markdown",
   "metadata": {},
   "source": [
    "# OpenCV"
   ]
  },
  {
   "cell_type": "code",
   "execution_count": 12,
   "metadata": {},
   "outputs": [],
   "source": [
    "import cv2 as cv"
   ]
  },
  {
   "cell_type": "code",
   "execution_count": 18,
   "metadata": {},
   "outputs": [],
   "source": [
    "mesh = o3d.io.read_triangle_mesh(\"./saves/monkey.ply\")\n",
    "mesh.compute_vertex_normals()\n",
    "mesh_pcd = mesh.sample_points_uniformly(number_of_points=2000)\n",
    "\n",
    "o3d.visualization.draw_geometries([mesh, mesh_pcd])"
   ]
  },
  {
   "cell_type": "code",
   "execution_count": 19,
   "metadata": {},
   "outputs": [
    {
     "data": {
      "text/plain": [
       "PointCloud with 2000 points."
      ]
     },
     "execution_count": 19,
     "metadata": {},
     "output_type": "execute_result"
    }
   ],
   "source": [
    "mesh_pcd"
   ]
  },
  {
   "cell_type": "code",
   "execution_count": 34,
   "metadata": {},
   "outputs": [
    {
     "name": "stdout",
     "output_type": "stream",
     "text": [
      "[[-3.50453364  2.39421924  1.46416823]\n",
      " [-3.2303437   2.38656028  1.11143724]\n",
      " [-3.65997779  1.8553532   1.67470471]\n",
      " ...\n",
      " [-0.01661275  0.327039    1.87270949]\n",
      " [ 0.72361356  0.48176678  0.90810801]\n",
      " [-2.37852839  1.98468249  1.11617644]]\n"
     ]
    }
   ],
   "source": [
    "arr = np.asarray(downpcd.points)\n",
    "print(arr)"
   ]
  },
  {
   "cell_type": "code",
   "execution_count": 56,
   "metadata": {},
   "outputs": [],
   "source": [
    "cluster0 = downpcd.select_by_index(np.where(labels == 0)[0])\n",
    "cluster1 = downpcd.select_by_index(np.where(labels == 1)[0])"
   ]
  },
  {
   "cell_type": "code",
   "execution_count": 58,
   "metadata": {},
   "outputs": [],
   "source": [
    "o3d.visualization.draw_geometries([cluster0])"
   ]
  }
 ],
 "metadata": {
  "kernelspec": {
   "display_name": ".venv",
   "language": "python",
   "name": "python3"
  },
  "language_info": {
   "codemirror_mode": {
    "name": "ipython",
    "version": 3
   },
   "file_extension": ".py",
   "mimetype": "text/x-python",
   "name": "python",
   "nbconvert_exporter": "python",
   "pygments_lexer": "ipython3",
   "version": "3.11.7"
  }
 },
 "nbformat": 4,
 "nbformat_minor": 2
}
